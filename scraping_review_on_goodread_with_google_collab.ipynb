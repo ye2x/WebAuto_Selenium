{
  "nbformat": 4,
  "nbformat_minor": 0,
  "metadata": {
    "colab": {
      "provenance": [],
      "authorship_tag": "ABX9TyM7G9/WmXV0GUtMPGknj0xo",
      "include_colab_link": true
    },
    "kernelspec": {
      "name": "python3",
      "display_name": "Python 3"
    },
    "language_info": {
      "name": "python"
    }
  },
  "cells": [
    {
      "cell_type": "markdown",
      "metadata": {
        "id": "view-in-github",
        "colab_type": "text"
      },
      "source": [
        "<a href=\"https://colab.research.google.com/github/ye2x/WebAuto_Selenium/blob/main/scraping_review_on_goodread_with_google_collab.ipynb\" target=\"_parent\"><img src=\"https://colab.research.google.com/assets/colab-badge.svg\" alt=\"Open In Colab\"/></a>"
      ]
    },
    {
      "cell_type": "code",
      "execution_count": 1,
      "metadata": {
        "colab": {
          "base_uri": "https://localhost:8080/"
        },
        "collapsed": true,
        "id": "XiHSuZQvTG2B",
        "outputId": "a4d61240-58cb-47d1-977c-3366a5565d4b"
      },
      "outputs": [
        {
          "output_type": "stream",
          "name": "stdout",
          "text": [
            "Collecting selenium\n",
            "  Downloading selenium-4.26.1-py3-none-any.whl.metadata (7.1 kB)\n",
            "Requirement already satisfied: urllib3<3,>=1.26 in /usr/local/lib/python3.10/dist-packages (from urllib3[socks]<3,>=1.26->selenium) (2.2.3)\n",
            "Collecting trio~=0.17 (from selenium)\n",
            "  Downloading trio-0.27.0-py3-none-any.whl.metadata (8.6 kB)\n",
            "Collecting trio-websocket~=0.9 (from selenium)\n",
            "  Downloading trio_websocket-0.11.1-py3-none-any.whl.metadata (4.7 kB)\n",
            "Requirement already satisfied: certifi>=2021.10.8 in /usr/local/lib/python3.10/dist-packages (from selenium) (2024.8.30)\n",
            "Requirement already satisfied: typing_extensions~=4.9 in /usr/local/lib/python3.10/dist-packages (from selenium) (4.12.2)\n",
            "Requirement already satisfied: websocket-client~=1.8 in /usr/local/lib/python3.10/dist-packages (from selenium) (1.8.0)\n",
            "Requirement already satisfied: attrs>=23.2.0 in /usr/local/lib/python3.10/dist-packages (from trio~=0.17->selenium) (24.2.0)\n",
            "Collecting sortedcontainers (from trio~=0.17->selenium)\n",
            "  Downloading sortedcontainers-2.4.0-py2.py3-none-any.whl.metadata (10 kB)\n",
            "Requirement already satisfied: idna in /usr/local/lib/python3.10/dist-packages (from trio~=0.17->selenium) (3.10)\n",
            "Collecting outcome (from trio~=0.17->selenium)\n",
            "  Downloading outcome-1.3.0.post0-py2.py3-none-any.whl.metadata (2.6 kB)\n",
            "Requirement already satisfied: sniffio>=1.3.0 in /usr/local/lib/python3.10/dist-packages (from trio~=0.17->selenium) (1.3.1)\n",
            "Requirement already satisfied: exceptiongroup in /usr/local/lib/python3.10/dist-packages (from trio~=0.17->selenium) (1.2.2)\n",
            "Collecting wsproto>=0.14 (from trio-websocket~=0.9->selenium)\n",
            "  Downloading wsproto-1.2.0-py3-none-any.whl.metadata (5.6 kB)\n",
            "Requirement already satisfied: pysocks!=1.5.7,<2.0,>=1.5.6 in /usr/local/lib/python3.10/dist-packages (from urllib3[socks]<3,>=1.26->selenium) (1.7.1)\n",
            "Requirement already satisfied: h11<1,>=0.9.0 in /usr/local/lib/python3.10/dist-packages (from wsproto>=0.14->trio-websocket~=0.9->selenium) (0.14.0)\n",
            "Downloading selenium-4.26.1-py3-none-any.whl (9.7 MB)\n",
            "\u001b[2K   \u001b[90m━━━━━━━━━━━━━━━━━━━━━━━━━━━━━━━━━━━━━━━━\u001b[0m \u001b[32m9.7/9.7 MB\u001b[0m \u001b[31m32.8 MB/s\u001b[0m eta \u001b[36m0:00:00\u001b[0m\n",
            "\u001b[?25hDownloading trio-0.27.0-py3-none-any.whl (481 kB)\n",
            "\u001b[2K   \u001b[90m━━━━━━━━━━━━━━━━━━━━━━━━━━━━━━━━━━━━━━━━\u001b[0m \u001b[32m481.7/481.7 kB\u001b[0m \u001b[31m23.6 MB/s\u001b[0m eta \u001b[36m0:00:00\u001b[0m\n",
            "\u001b[?25hDownloading trio_websocket-0.11.1-py3-none-any.whl (17 kB)\n",
            "Downloading wsproto-1.2.0-py3-none-any.whl (24 kB)\n",
            "Downloading outcome-1.3.0.post0-py2.py3-none-any.whl (10 kB)\n",
            "Downloading sortedcontainers-2.4.0-py2.py3-none-any.whl (29 kB)\n",
            "Installing collected packages: sortedcontainers, wsproto, outcome, trio, trio-websocket, selenium\n",
            "Successfully installed outcome-1.3.0.post0 selenium-4.26.1 sortedcontainers-2.4.0 trio-0.27.0 trio-websocket-0.11.1 wsproto-1.2.0\n"
          ]
        }
      ],
      "source": [
        "!pip install selenium"
      ]
    },
    {
      "cell_type": "code",
      "source": [
        "import re\n",
        "import time\n",
        "from selenium import webdriver\n",
        "from selenium.webdriver.common.by import By\n",
        "from selenium.webdriver.common.action_chains import ActionChains\n",
        "from selenium.webdriver.support.ui import WebDriverWait\n",
        "from selenium.webdriver.support import expected_conditions as EC\n"
      ],
      "metadata": {
        "id": "vSnDZbTPTIjt"
      },
      "execution_count": 2,
      "outputs": []
    },
    {
      "cell_type": "code",
      "source": [
        "# Input Alamat Web yang menuju riview\n",
        "link = \"https://www.goodreads.com/book/show/325779/reviews\"\n",
        "\n",
        "# Fungsi untuk inisialisasi WebDriver\n",
        "def web_driver():\n",
        "    options = webdriver.ChromeOptions()\n",
        "    options.add_argument(\"--verbose\")\n",
        "    options.add_argument('--no-sandbox')\n",
        "    options.add_argument('--headless')\n",
        "    options.add_argument('--disable-gpu')\n",
        "    options.add_argument(\"--window-size=1920, 1200\")\n",
        "    options.add_argument('--disable-dev-shm-usage')\n",
        "    driver = webdriver.Chrome(options=options)\n",
        "    return driver\n",
        "\n",
        "def click_expand_buttons_until_gone(driver, expand_button_xpath):\n",
        "    while True:\n",
        "        try:\n",
        "            # Tunggu tombol \"Expand\" tersedia (jika ada)\n",
        "            expand_button = WebDriverWait(driver, 5).until(\n",
        "                EC.presence_of_element_located((By.XPATH, expand_button_xpath))\n",
        "            )\n",
        "\n",
        "            # Scroll ke elemen untuk memastikan terlihat\n",
        "            driver.execute_script(\"arguments[0].scrollIntoView(true);\", expand_button)\n",
        "            time.sleep(1)\n",
        "\n",
        "            # Klik tombol \"Expand\" menggunakan ActionChains\n",
        "            actions = ActionChains(driver)\n",
        "            actions.move_to_element(expand_button).click().perform()\n",
        "            print(\"Tombol Expand berhasil diklik.\")\n",
        "\n",
        "            # Tunggu sebentar untuk memastikan konten dimuat\n",
        "            time.sleep(2)\n",
        "\n",
        "        except Exception as e:\n",
        "            # Jika tombol \"Expand\" tidak ditemukan lagi, keluar dari loop\n",
        "            # print(\"Tidak ada tombol Expand yang tersisa atau terjadi kesalahan:\", e)\n",
        "            break\n",
        "\n",
        "# Fungsi utama\n",
        "def main():\n",
        "    # Inisialisasi WebDriver dan buka URL\n",
        "    driver = web_driver()\n",
        "    url = link\n",
        "    driver.get(url)\n",
        "    time.sleep(5)\n",
        "\n",
        "    # XPath tombol \"Expand\"\n",
        "    expand_button_xpath = \"/html/body/div[1]/div[2]/main/div[1]/div[2]/div[5]/div[4]/div/button\"\n",
        "\n",
        "    click_expand_buttons_until_gone(driver, expand_button_xpath)\n",
        "    # XPath untuk elemen-elemen yang relevan\n",
        "    common_xpath = \"/html/body/div[1]/div[2]/main/div[1]/div[2]/div[5]/div[2]//article/div/div/section[2]/span[1]/div/a\"\n",
        "    rating_path = \"/html/body/div[1]/div[2]/main/div[1]/div[2]/div[5]/div[2]//article/section/section[1]/div/span\"\n",
        "    content_path = \"/html/body/div[1]/div[2]/main/div[1]/div[2]/div[5]/div[2]//article/section/section[2]/section/div/div[1]/span\"\n",
        "    date_path = \"/html/body/div[1]/div[2]/main/div[1]/div[2]/div[5]/div[2]//article/section/section[1]/span/a\"\n",
        "\n",
        "    # Ambil elemen-elemen yang sesuai\n",
        "    review = driver.find_elements(By.XPATH, common_xpath)\n",
        "    ratings = driver.find_elements(By.XPATH, rating_path)\n",
        "    contents = driver.find_elements(By.XPATH, content_path)\n",
        "    date = driver.find_elements(By.XPATH, date_path)\n",
        "\n",
        "      # Iterasi untuk setiap elemen ulasan\n",
        "    for index, rating_element in enumerate(ratings):\n",
        "        try:\n",
        "            # Ambil atribut \"aria-label\" dari elemen rating\n",
        "            aria_label = rating_element.get_attribute(\"aria-label\")\n",
        "\n",
        "            # Ekstrak nilai rating menggunakan regex\n",
        "            match = re.search(r\"Rating (\\d) out of 5\", aria_label)\n",
        "            rating_number = int(match.group(1)) if match else \"Rating tidak valid\"\n",
        "        except Exception as e:\n",
        "            rating_number = \"Rating tidak ditemukan\"\n",
        "            print(f\"Kesalahan saat membaca rating untuk elemen {index}: {e}\")\n",
        "\n",
        "    # Pastikan panjang elemen konsisten\n",
        "    review_count = min(len(review), len(ratings), len(contents), len(date))\n",
        "\n",
        "    # Iterasi untuk mencetak setiap ulasan\n",
        "    for index in range(review_count):\n",
        "        profil = review[index].text if index < len(review) else \"N/A\"\n",
        "        dates = date[index].text if index < len(date) else \"N/A\"\n",
        "        # rating = rating_number[index].text if index < len(ratings) else \"N/A\"\n",
        "        content = contents[index].text if index < len(contents) else \"N/A\"\n",
        "\n",
        "        print(f\"Review {index + 1}: {profil}\")\n",
        "        print(f\"{dates}\")\n",
        "        print(f\"  Rating : {rating_number}\")\n",
        "        print(f\"  Content: {content}\")\n",
        "\n",
        "\n",
        "\n",
        "    # Tutup browser\n",
        "    driver.quit()\n",
        "\n",
        "# Jalankan program\n",
        "if __name__ == \"__main__\":\n",
        "    main()"
      ],
      "metadata": {
        "id": "LoLRQDX3TO_c"
      },
      "execution_count": null,
      "outputs": []
    }
  ]
}